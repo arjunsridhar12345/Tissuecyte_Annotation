{
 "cells": [
  {
   "cell_type": "code",
   "execution_count": 1,
   "metadata": {},
   "outputs": [],
   "source": [
    "import pandas as pd\n",
    "import sqlite3\n",
    "import pathlib"
   ]
  },
  {
   "cell_type": "code",
   "execution_count": 2,
   "metadata": {},
   "outputs": [],
   "source": [
    "connection = sqlite3.Connection(r\"C:\\Users\\arjun.sridhar\\source\\dr_master_11032023.db\")"
   ]
  },
  {
   "cell_type": "code",
   "execution_count": 19,
   "metadata": {},
   "outputs": [],
   "source": [
    "mid = '649944'\n",
    "channel_ccf_coords = pd.read_sql(f\"SELECT * FROM channel_ccf_coords ccf WHERE ccf.MID = '{mid}' \", con=connection)"
   ]
  },
  {
   "cell_type": "code",
   "execution_count": 20,
   "metadata": {},
   "outputs": [],
   "source": [
    "for index, row in channel_ccf_coords.iterrows():\n",
    "    channels_dict = {'AP': [], 'DV': [], 'ML': [], 'region': [], 'channel': []}\n",
    "    for i in range(384):\n",
    "        channels_dict['AP'].append(row[f'Channel_{i}_AP'])\n",
    "        channels_dict['DV'].append(row[f'Channel_{i}_DV'])\n",
    "        channels_dict['ML'].append(row[f'Channel_{i}_ML'])\n",
    "        channels_dict['region'].append(row[f'Channel_{i}_region'])\n",
    "        channels_dict['channel'].append(i)\n",
    "\n",
    "        df = pd.DataFrame(channels_dict)\n",
    "        path = pathlib.Path(\"//allen/programs/mindscope/workgroups/dynamicrouting/old_templeton_alignments\", mid)\n",
    "        if not path.exists():\n",
    "            path.mkdir()\n",
    "\n",
    "        df.to_csv((path / f\"Probe_{row['Probe']+str(row['Day'])}_channels_{mid}_warped.csv\"))"
   ]
  },
  {
   "cell_type": "code",
   "execution_count": null,
   "metadata": {},
   "outputs": [],
   "source": []
  }
 ],
 "metadata": {
  "kernelspec": {
   "display_name": "tissuecyte_annotation",
   "language": "python",
   "name": "python3"
  },
  "language_info": {
   "codemirror_mode": {
    "name": "ipython",
    "version": 3
   },
   "file_extension": ".py",
   "mimetype": "text/x-python",
   "name": "python",
   "nbconvert_exporter": "python",
   "pygments_lexer": "ipython3",
   "version": "3.9.12"
  }
 },
 "nbformat": 4,
 "nbformat_minor": 2
}
