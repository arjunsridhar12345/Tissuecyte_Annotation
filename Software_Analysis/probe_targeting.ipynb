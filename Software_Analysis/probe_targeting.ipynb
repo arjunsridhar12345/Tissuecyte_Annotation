{
 "cells": [
  {
   "cell_type": "code",
   "execution_count": 81,
   "metadata": {},
   "outputs": [],
   "source": [
    "import pandas as pd\n",
    "import matplotlib.pyplot as plt\n",
    "import sqlite3\n",
    "from sqlalchemy import create_engine\n",
    "import numpy as np\n",
    "import pathlib\n",
    "from ccfwidget import CCFWidget\n",
    "import ipywidgets as widgets"
   ]
  },
  {
   "cell_type": "code",
   "execution_count": 82,
   "metadata": {},
   "outputs": [],
   "source": [
    "NUM_CHANNELS = 384"
   ]
  },
  {
   "cell_type": "code",
   "execution_count": 83,
   "metadata": {},
   "outputs": [],
   "source": [
    " # allow integers >8 bytes to be stored in sqlite3\n",
    "sqlite3.register_adapter(np.int64, lambda val: int(val))\n",
    "sqlite3.register_adapter(np.int32, lambda val: int(val))\n",
    "# ------------------------------------------------------------------------------------\n",
    "DB_PATH = pathlib.Path('//allen/programs/mindscope/workgroups/dynamicrouting/dynamic_gating_insertions/dr_master.db')\n",
    "# with contextlib.suppress(OSError):\n",
    "#     DB_PATH.unlink()\n",
    "sqlite3.connect(DB_PATH).close()\n",
    "DB = f\"sqlite:///{DB_PATH}\"\n",
    "ENGINE = create_engine(DB, echo=False)\n",
    "\n",
    "df_ccf = pd.read_sql('channel_ccf_coords', con=ENGINE)"
   ]
  },
  {
   "cell_type": "code",
   "execution_count": 84,
   "metadata": {},
   "outputs": [
    {
     "data": {
      "text/plain": [
       "array(['41', 'football', 'TS1', 'TS5', '2002', 'templ',\n",
       "       'Templeton/v1/0283-200-001'], dtype=object)"
      ]
     },
     "execution_count": 84,
     "metadata": {},
     "output_type": "execute_result"
    }
   ],
   "source": [
    "implants = df_ccf['Implant'].unique()\n",
    "implants"
   ]
  },
  {
   "cell_type": "code",
   "execution_count": 85,
   "metadata": {},
   "outputs": [],
   "source": [
    "df_2002_ccf = df_ccf.loc[df_ccf['Implant'] == '2002']\n",
    "area_counts = {}\n",
    "area_trajectories = {}\n",
    "\n",
    "for index, row in df_2002_ccf.iterrows():\n",
    "    for i in range(NUM_CHANNELS):\n",
    "        region_column = f'Channel_{i}_region'\n",
    "        region = row[region_column]\n",
    "        if region != 'out of brain' and region != 'root' and region != 'Track not annotated':\n",
    "            if region in area_counts:\n",
    "                area_counts[region] += 1\n",
    "                area_trajectories[region].append(row.iloc[9:].to_numpy().reshape((384, 4))[:, 0:3]*25)\n",
    "                break\n",
    "            else:\n",
    "                area_counts[region] = 1\n",
    "                area_trajectories[region] = [row.iloc[9:].to_numpy().reshape((384, 4))[:, 0:3]*25]\n",
    "                break"
   ]
  },
  {
   "cell_type": "code",
   "execution_count": 86,
   "metadata": {},
   "outputs": [
    {
     "data": {
      "text/plain": [
       "dict_keys(['MD', 'LD', 'VPM', 'MB', 'PO', 'CP', 'AV', 'MRN', 'APN', 'RT', 'VPMpc', 'or', 'fi', 'LSr', 'CL', 'MGm', 'VAL', 'int', 'AMd', 'Eth', 'PoT', 'LSv', 'TH', 'GPe', 'LH', 'ar', 'VPL', 'chpl', 'DG-mo', 'POL', 'SF', 'fr', 'PF', 'PP', 'STR', 'SPA', 'LP', 'LGv', 'PIL', 'PVT', 'BST', 'ZI', 'LSc', 'PAG', 'PAL', 'CA1', 'PIR', 'ACB', 'PRE', 'MEPO', 'TTd', 'ORBl6a', 'MGv', 'CA3', 'PPN', 'SNr', 'RN', 'st', 'cpd', 'MGd', 'TMv', 'VM', 'aco', 'ACAv1', 'NPC', 'OT', 'MEA', 'PRNr', 'AQ', 'lot', 'OLF', 'P', 'MPO', 'fa', 'NDB', 'PVH', 'SI', 'ORBl2/3', 'AON', 'cing', 'PL6a', 'ccg', 'SEZ', 'MOs6b', 'DP'])"
      ]
     },
     "execution_count": 86,
     "metadata": {},
     "output_type": "execute_result"
    }
   ],
   "source": [
    "area_trajectories.keys()"
   ]
  },
  {
   "cell_type": "code",
   "execution_count": 87,
   "metadata": {},
   "outputs": [
    {
     "data": {
      "image/png": "[encoded data removed]",
      "text/plain": [
       "<Figure size 640x480 with 1 Axes>"
      ]
     },
     "metadata": {},
     "output_type": "display_data"
    }
   ],
   "source": [
    "min_10_regions = sorted(area_counts.items(), key=lambda x:x[1])[0:10]\n",
    "fig, ax = plt.subplots()\n",
    "ax.bar([region[0] for region in min_10_regions], [region[1] for region in min_10_regions])\n",
    "fig.tight_layout()\n",
    "plt.show()"
   ]
  },
  {
   "cell_type": "code",
   "execution_count": 88,
   "metadata": {},
   "outputs": [
    {
     "data": {
      "image/png": "[encoded data removed]",
      "text/plain": [
       "<Figure size 640x480 with 1 Axes>"
      ]
     },
     "metadata": {},
     "output_type": "display_data"
    }
   ],
   "source": [
    "max_10_regions = sorted(area_counts.items(), key=lambda x:x[1], reverse=True)[0:10]\n",
    "fig, ax = plt.subplots()\n",
    "ax.bar([region[0] for region in max_10_regions], [region[1] for region in max_10_regions])\n",
    "fig.tight_layout()\n",
    "plt.show()"
   ]
  },
  {
   "cell_type": "code",
   "execution_count": 89,
   "metadata": {},
   "outputs": [
    {
     "data": {
      "application/vnd.jupyter.widget-view+json": {
       "model_id": "cba289beefbe4ae4b851ddff80155c9b",
       "version_major": 2,
       "version_minor": 0
      },
      "text/plain": [
       "Dropdown(description='CCF Area:', options=('MD', 'LD', 'VPM', 'MB', 'PO', 'CP', 'AV', 'MRN', 'APN', 'RT', 'VPM…"
      ]
     },
     "metadata": {},
     "output_type": "display_data"
    }
   ],
   "source": [
    "area_dropdown = widgets.Dropdown(\n",
    "    options=list(area_trajectories.keys()),\n",
    "    value=list(area_trajectories.keys())[0],\n",
    "    description='CCF Area:',\n",
    "    disabled=False,\n",
    ")\n",
    "area_dropdown"
   ]
  },
  {
   "cell_type": "code",
   "execution_count": 90,
   "metadata": {},
   "outputs": [
    {
     "data": {
      "text/plain": [
       "'2'"
      ]
     },
     "execution_count": 90,
     "metadata": {},
     "output_type": "execute_result"
    }
   ],
   "source": [
    "w.value"
   ]
  },
  {
   "cell_type": "code",
   "execution_count": 91,
   "metadata": {},
   "outputs": [
    {
     "data": {
      "application/vnd.jupyter.widget-view+json": {
       "model_id": "e36c74dfa189475b99ddbbe85a706930",
       "version_major": 2,
       "version_minor": 0
      },
      "text/plain": [
       "CCFWidget(children=(VBox(children=(Viewer(background=(0.85, 0.85, 0.85), camera=array([[ 1.3441567e+03, -2.172…"
      ]
     },
     "metadata": {},
     "output_type": "display_data"
    }
   ],
   "source": [
    "area_of_interest = ['CP']\n",
    "all_probes_areas = []\n",
    "\n",
    "for area in area_of_interest:\n",
    "    for area_trajectories_per_area in area_trajectories[area]:\n",
    "        area_trajectories_per_area_filtered = area_trajectories_per_area[area_trajectories_per_area[:, 1] > 0]\n",
    "        all_probes_areas.append(area_trajectories_per_area_filtered)\n",
    "\n",
    "\n",
    "ccf = CCFWidget(markers=all_probes_areas, selected_acronyms=area_of_interest)\n",
    "ccf"
   ]
  },
  {
   "cell_type": "code",
   "execution_count": null,
   "metadata": {},
   "outputs": [],
   "source": []
  }
 ],
 "metadata": {
  "kernelspec": {
   "display_name": "tissuecyte_annotation",
   "language": "python",
   "name": "python3"
  },
  "language_info": {
   "codemirror_mode": {
    "name": "ipython",
    "version": 3
   },
   "file_extension": ".py",
   "mimetype": "text/x-python",
   "name": "python",
   "nbconvert_exporter": "python",
   "pygments_lexer": "ipython3",
   "version": "3.9.12"
  }
 },
 "nbformat": 4,
 "nbformat_minor": 2
}
